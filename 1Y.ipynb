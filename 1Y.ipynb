{
 "cells": [
  {
   "cell_type": "code",
   "execution_count": 7,
   "metadata": {},
   "outputs": [
    {
     "name": "stdout",
     "output_type": "stream",
     "text": [
      "The autoreload extension is already loaded. To reload it, use:\n",
      "  %reload_ext autoreload\n"
     ]
    }
   ],
   "source": [
    "%load_ext autoreload\n",
    "%autoreload 2"
   ]
  },
  {
   "cell_type": "code",
   "execution_count": 8,
   "metadata": {},
   "outputs": [],
   "source": [
    "V0=0.02\n",
    "θ=0.02\n",
    "λ=0.3\n",
    "ν=0.3\n",
    "ρ=-0.7\n",
    "H=0.1\n",
    "S0=100"
   ]
  },
  {
   "cell_type": "code",
   "execution_count": 9,
   "metadata": {},
   "outputs": [],
   "source": [
    "import matplotlib.pyplot as plt\n",
    "import numpy as np\n",
    "import pyfeng as pf\n",
    "import LiftedHeston as LF\n",
    "import matplotlib.pyplot as plt\n",
    "from matplotlib import rcParams, cycler\n",
    "import numpy as np\n",
    "import pandas as pd"
   ]
  },
  {
   "cell_type": "code",
   "execution_count": 10,
   "metadata": {},
   "outputs": [],
   "source": [
    "import xlrd\n",
    "data=xlrd.open_workbook(\"rough heston impvol.xls\")\n",
    "data_log_moneyness=data.sheet_by_name(\"log_moneyness\")\n",
    "data_impvol=data.sheet_by_name(\"impvol\")"
   ]
  },
  {
   "cell_type": "code",
   "execution_count": null,
   "metadata": {},
   "outputs": [],
   "source": [
    "n=[10,20]\n",
    "n=np.asarray(n)\n",
    "r=1+10*pow(n,-0.9)\n",
    "maturities=[7/365,1/12,1/6,1/4,1/2,3/4,1,1.5,2]\n",
    "titles=['1 week','1 month','2 months','3 months','6 months','9 months','1 year','1.5 years','2 years']\n",
    "colors=['b','#00FFFF','#00FF00','#FFFF00','#FF8C00']\n",
    "MSE=np.zeros(shape=(9,5))\n",
    "\n",
    "i_row=6 #change here\n",
    "log_moneyness=np.asarray(data_log_moneyness.row_values(i_row))\n",
    "impvol_rough=np.asarray(data_impvol.row_values(i_row))\n",
    "strikes=S0*np.exp(log_moneyness)\n",
    "\n",
    "df=pd.DataFrame(log_moneyness)                                                                                                                                                                                                                                                                                                                                               \n",
    "for i_n in range(2):\n",
    "    LH=LF.LiftedHeston(vov=ν, v0=V0, rho=ρ, theta=θ, lamda=λ, H=H,n=n[i_n],rn=r[i_n])\n",
    "    prices_lifted=LH.price(strike=strikes, spot=S0, texp=maturities[i_row], cp=1)\n",
    "    BSM_model=pf.Bsm(0.3)\n",
    "    impvol_lifted=BSM_model._impvol_newton(prices_lifted,strikes,S0,maturities[i_row]) \n",
    "    plt.plot(log_moneyness,impvol_lifted,color=colors[i_n])\n",
    "    MSE[i_row,i_n]=np.mean(np.power(impvol_lifted-impvol_rough,2))\n",
    "    df[\"n=\"+str(n[i_n])]=impvol_lifted\n",
    "df.to_excel(\"add_maturity\"+str(maturities[i_row])+\".xlsx\")\n",
    "plt.plot(log_moneyness,impvol_rough,color='r',linewidth=2)\n",
    "plt.legend(['n=10','n=20'])\n",
    "plt.xlabel('log moneyness',fontsize=12)\n",
    "plt.ylabel('implied volatility',fontsize=12)\n",
    "plt.title('T='+titles[i_row],fontsize=12)\n",
    "plt.show()\n",
    "plt.savefig(\"add_maturity\"+str(maturities[i_row])+\".png\")"
   ]
  },
  {
   "cell_type": "code",
   "execution_count": null,
   "metadata": {},
   "outputs": [],
   "source": []
  }
 ],
 "metadata": {
  "kernelspec": {
   "display_name": "Python 3",
   "language": "python",
   "name": "python3"
  },
  "language_info": {
   "codemirror_mode": {
    "name": "ipython",
    "version": 3
   },
   "file_extension": ".py",
   "mimetype": "text/x-python",
   "name": "python",
   "nbconvert_exporter": "python",
   "pygments_lexer": "ipython3",
   "version": "3.7.3"
  }
 },
 "nbformat": 4,
 "nbformat_minor": 2
}
