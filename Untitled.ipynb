{
 "cells": [
  {
   "cell_type": "code",
   "execution_count": 49,
   "metadata": {},
   "outputs": [
    {
     "name": "stdout",
     "output_type": "stream",
     "text": [
      "The autoreload extension is already loaded. To reload it, use:\n",
      "  %reload_ext autoreload\n"
     ]
    }
   ],
   "source": [
    "%load_ext autoreload\n",
    "%autoreload 2"
   ]
  },
  {
   "cell_type": "code",
   "execution_count": 50,
   "metadata": {},
   "outputs": [],
   "source": [
    "import scipy.special as scsp\n",
    "import scipy.integrate as spint\n",
    "import numpy as np"
   ]
  },
  {
   "cell_type": "code",
   "execution_count": 51,
   "metadata": {},
   "outputs": [],
   "source": [
    "import LiftedHeston as LF"
   ]
  },
  {
   "cell_type": "code",
   "execution_count": null,
   "metadata": {},
   "outputs": [],
   "source": []
  },
  {
   "cell_type": "code",
   "execution_count": 52,
   "metadata": {},
   "outputs": [],
   "source": [
    "V0=0.02\n",
    "θ=0.02\n",
    "λ=0.3\n",
    "ν=0.3\n",
    "ρ=-0.7\n",
    "H=0.1\n",
    "S0=100\n",
    "T=1\n",
    "LH=LF.LiftedHeston(vov=ν, v0=V0, rho=ρ, theta=θ, lamda=λ, H=H,n=10,rn=1+10*pow(10,-0.9))"
   ]
  },
  {
   "cell_type": "code",
   "execution_count": 53,
   "metadata": {},
   "outputs": [
    {
     "data": {
      "text/plain": [
       "(1.0167460590991948+0j)"
      ]
     },
     "execution_count": 53,
     "metadata": {},
     "output_type": "execute_result"
    }
   ],
   "source": [
    "u=complex(2)\n",
    "LH.characteristic_func(u,T,ρ,λ,ν,V0,θ,steps=60,intervals=70)"
   ]
  },
  {
   "cell_type": "code",
   "execution_count": 60,
   "metadata": {},
   "outputs": [],
   "source": [
    "steps=60\n",
    "u=complex(2)\n",
    "y=lambda t: LF.F(u,np.sum(LH.weight()*LH.ψ(t,ρ,u,λ,ν,steps=steps)),ρ,λ,ν)*LH.gn(T-t)"
   ]
  },
  {
   "cell_type": "code",
   "execution_count": 61,
   "metadata": {},
   "outputs": [
    {
     "name": "stderr",
     "output_type": "stream",
     "text": [
      "D:\\Anaconda3\\lib\\site-packages\\scipy\\integrate\\quadpack.py:448: ComplexWarning: Casting complex values to real discards the imaginary part\n",
      "  return _quadpack._qagse(func,a,b,args,full_output,epsabs,epsrel,limit)\n"
     ]
    }
   ],
   "source": [
    "integral = spint.quad(y,0,T)"
   ]
  },
  {
   "cell_type": "code",
   "execution_count": 64,
   "metadata": {},
   "outputs": [
    {
     "data": {
      "text/plain": [
       "1.0195249429038515"
      ]
     },
     "execution_count": 64,
     "metadata": {},
     "output_type": "execute_result"
    }
   ],
   "source": [
    "np.exp(integral[0])"
   ]
  },
  {
   "cell_type": "code",
   "execution_count": null,
   "metadata": {},
   "outputs": [],
   "source": [
    "for each in range(intervals):\n",
    "    left_s=ds*each\n",
    "    right_s=left_s+ds\n",
    "    ψ_right =self.ψ(right_s,u,ρ,λ,ν,steps)\n",
    "    ψ_left =self.ψ(left_s,u,ρ,λ,ν,steps)\n",
    "\n",
    "    integral_left=F(u,np.sum(self.weight*ψ_left),ρ,λ,ν)*self.gn(T-left_s)\n",
    "    integral_right=F(u,np.sum(self.weight*ψ_right),ρ,λ,ν)*self.gn(T-right_s)\n",
    "    integral_value+=(integral_left+integral_right)*ds/2\n",
    "    ψ_left=ψ_right\n",
    "if integral_value<=0:\n",
    "    ans = np.exp(integral_value)\n",
    "else:\n",
    "    ans = 1/np.exp(-integral_value)"
   ]
  }
 ],
 "metadata": {
  "kernelspec": {
   "display_name": "Python 3",
   "language": "python",
   "name": "python3"
  },
  "language_info": {
   "codemirror_mode": {
    "name": "ipython",
    "version": 3
   },
   "file_extension": ".py",
   "mimetype": "text/x-python",
   "name": "python",
   "nbconvert_exporter": "python",
   "pygments_lexer": "ipython3",
   "version": "3.7.3"
  }
 },
 "nbformat": 4,
 "nbformat_minor": 2
}
